{
 "cells": [
  {
   "cell_type": "markdown",
   "id": "1e2b742c",
   "metadata": {
    "slideshow": {
     "slide_type": "slide"
    }
   },
   "source": [
    "# Tap Twitch : Predicting viewers of twitch streamers\n",
    "Carmelo Fuccio A.A 2022/2023\n",
    "Project of Technlogies for Advanced Programming (TAP"
   ]
  },
  {
   "cell_type": "markdown",
   "id": "1bcb367a",
   "metadata": {
    "slideshow": {
     "slide_type": "slide"
    }
   },
   "source": [
    "# How it works\n",
    "TapTwitch is a enviroment that works with IGBD Api and Twitch API, to obtain combined data's about the platform called 'Twitch' and basic information about the games streamed in the streaming platform.\n",
    "Basically we're using softwares that let's us manipulate and elaborate and show the data's we're receving. "
   ]
  },
  {
   "cell_type": "markdown",
   "id": "fd6f2825",
   "metadata": {
    "slideshow": {
     "slide_type": "slide"
    }
   },
   "source": [
    "# Our pipeline\n",
    "![Alt Text](pipeline.png)"
   ]
  },
  {
   "cell_type": "markdown",
   "id": "362feeed",
   "metadata": {
    "slideshow": {
     "slide_type": "slide"
    }
   },
   "source": [
    "# Docker\n",
    "Every software is in a docker container.\n",
    "![Docker Meme](dockerMEME.png)\n",
    "![Why linux](whylinuxMEME.jpg)"
   ]
  },
  {
   "cell_type": "code",
   "execution_count": null,
   "id": "fc4172ca",
   "metadata": {},
   "outputs": [],
   "source": []
  }
 ],
 "metadata": {
  "celltoolbar": "Slideshow",
  "kernelspec": {
   "display_name": "Python 3 (ipykernel)",
   "language": "python",
   "name": "python3"
  },
  "language_info": {
   "codemirror_mode": {
    "name": "ipython",
    "version": 3
   },
   "file_extension": ".py",
   "mimetype": "text/x-python",
   "name": "python",
   "nbconvert_exporter": "python",
   "pygments_lexer": "ipython3",
   "version": "3.10.6"
  }
 },
 "nbformat": 4,
 "nbformat_minor": 5
}
