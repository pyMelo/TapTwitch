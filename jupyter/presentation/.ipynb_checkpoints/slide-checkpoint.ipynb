{
 "cells": [
  {
   "cell_type": "markdown",
   "id": "b693d886",
   "metadata": {
    "slideshow": {
     "slide_type": "slide"
    }
   },
   "source": [
    "# Tap Twitch : Predicting viewers of twitch streamers\n",
    "- Carmelo Fuccio \n",
    "- A.A 2022/2023\n",
    "- Project of Technlogies for Advanced Programming (TAP)\n",
    "    <div style=\"flex: 1;\">\n",
    "        <img src=\"taplogo2.png\" alt=\"Image 1\" width=\"450\" style=\"margin-right:200px;\"/>\n",
    "    </div>\n",
    "![LOGO](taplogo2."
   ]
  },
  {
   "cell_type": "markdown",
   "id": "5f394562",
   "metadata": {
    "slideshow": {
     "slide_type": "slide"
    }
   },
   "source": [
    "# How it works\n",
    "TapTwitch is a enviroment that works with IGBD Api and Twitch API, to obtain combined data's about the platform called 'Twitch' and basic information about the games streamed in the streaming platform.\n",
    "Basically we're using softwares that let's us manipulate and elaborate and show the data's we're receving. "
   ]
  },
  {
   "cell_type": "markdown",
   "id": "5cb1fb8d",
   "metadata": {
    "slideshow": {
     "slide_type": "slide"
    }
   },
   "source": [
    "# Our pipeline\n",
    "![Alt Text](pipeline.png)"
   ]
  },
  {
   "cell_type": "markdown",
   "id": "06f04414",
   "metadata": {
    "slideshow": {
     "slide_type": "slide"
    }
   },
   "source": [
    "# <span style=\"color: purple\"> DOCKER </span>\n",
    "# Docker is the core of this project\n",
    "It is a containerization platform that allows you to create, deploy, and manage application containers. Containers are isolated and portable environments containing all the dependencies required to run the application, including code, libraries, and configurations.\n",
    "\n",
    "\n",
    "\n",
    "<div style=\"display: flex;\">\n",
    "    <div style=\"flex: 1;\">\n",
    "        <img src=\"dockerMEME.png\" alt=\"Image 1\" width=\"450\" style=\"margin-right:200px;\"/>\n",
    "    </div>\n",
    "    <div style=\"flex: 2;\">\n",
    "        <img src=\"whylinuxMEME.jpg\" alt=\"Image 2\" width=\"450\"/>\n",
    "    </div>\n",
    "</div>"
   ]
  },
  {
   "cell_type": "markdown",
   "id": "04b31c36",
   "metadata": {
    "slideshow": {
     "slide_type": "slide"
    }
   },
   "source": [
    "# <span style=\"color: purple\">Python scripts  </span>\n",
    "\n",
    "# The twitch api is annoying\n",
    "The Twitch API is annoying; it requires 4 different tokens/auth IDs. So, we made a Python script that does (almost) everything.\n",
    "We retrieved a lot of data elements, such as game rating, game genres, viewers, follower counts, and more.\n"
   ]
  },
  {
   "cell_type": "markdown",
   "id": "711178ab",
   "metadata": {
    "slideshow": {
     "slide_type": "slide"
    }
   },
   "source": [
    "# <span style=\"color: purple\"> Fluentbit : lightweight baby </span>\n",
    "\n",
    "# Why fluent bit?\n",
    "![lightweight](light-weight.gif)\n",
    "\n",
    "\n",
    "- Lightweight and Resource-Friendly : known for its low memory and CPU usage.\n",
    "- Performance: Due to its lightweight nature, Fluent Bit can handle high volumes of log data efficiently, making it a good choice for processing logs in real-time and at scale.\n",
    "- Simplicity and Ease of Configuration: designed with semplicity offering an easy-to-use configuration format and straightforward setup process. It can be quickly deployed and configured.\n",
    "\n"
   ]
  },
  {
   "cell_type": "markdown",
   "id": "f48f7239",
   "metadata": {
    "slideshow": {
     "slide_type": "slide"
    }
   },
   "source": [
    "# <span style=\"color: purple\"> KAFKA </span>\n",
    "\n",
    "# data streaming\n",
    "\n",
    "Kafka is used to stream data through topics that is receving from fluent-bit.\n",
    "Zookeeper is crucial to Kafka as it serves as a distributed coordination service, managing Kafka brokers' metadat and handling partitions and topic.\n"
   ]
  },
  {
   "cell_type": "markdown",
   "id": "245429aa",
   "metadata": {
    "slideshow": {
     "slide_type": "slide"
    }
   },
   "source": [
    "# <span style=\"color: purple\"> Spark </span>\n",
    "\n",
    "# suffering a lot\n",
    "\n",
    "Apache Spark is an open-source distributed computing system that offers high-speed data processing and analytics.\n",
    "We used the Spark MLIB library, using linear regression, a machine learning algorithm that does the prediction and estimate the viewers count about the stream in the platform.\n",
    "\n",
    "![sparkLIT](sparkLIT.png)"
   ]
  },
  {
   "cell_type": "markdown",
   "id": "42c6fa4f",
   "metadata": {
    "slideshow": {
     "slide_type": "slide"
    }
   },
   "source": [
    "# <span style=\"color: purple\"> Elastic search </span>\n",
    "\n",
    "# goin fast\n",
    "\n",
    "Elasticsearch is a distributed search and analytics engine designed for fast real-time data analysis and visualization. \n",
    "\n",
    "Used as a storage in our project, giving fast and efficient search operation."
   ]
  },
  {
   "cell_type": "markdown",
   "id": "9716bf0b",
   "metadata": {
    "slideshow": {
     "slide_type": "slide"
    }
   },
   "source": [
    "# <span style=\"color: purple\"> Kibana </span>\n",
    "# Yay cakes and graphs\n",
    "Kibana is an open-source data visualization platform that works seamlessly with Elasticsearch, allowing us to explore, analyze, and visualize their data through interactive dashboards and charts.\n",
    "\n",
    "![cakes](kibana.png)"
   ]
  },
  {
   "cell_type": "markdown",
   "id": "a74070b3",
   "metadata": {
    "slideshow": {
     "slide_type": "slide"
    }
   },
   "source": [
    "# <span style=\"color: purple\"> Thanks everyone !</span>\n"
   ]
  }
 ],
 "metadata": {
  "celltoolbar": "Slideshow",
  "kernelspec": {
   "display_name": "Python 3 (ipykernel)",
   "language": "python",
   "name": "python3"
  },
  "language_info": {
   "codemirror_mode": {
    "name": "ipython",
    "version": 3
   },
   "file_extension": ".py",
   "mimetype": "text/x-python",
   "name": "python",
   "nbconvert_exporter": "python",
   "pygments_lexer": "ipython3",
   "version": "3.10.6"
  }
 },
 "nbformat": 4,
 "nbformat_minor": 5
}
